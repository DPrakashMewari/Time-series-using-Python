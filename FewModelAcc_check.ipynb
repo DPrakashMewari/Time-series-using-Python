{
 "cells": [
  {
   "cell_type": "code",
   "execution_count": 12,
   "id": "6ef9f53e-e3d4-497a-8724-da6ee67eae69",
   "metadata": {},
   "outputs": [
    {
     "data": {
      "text/html": [
       "<div>\n",
       "<style scoped>\n",
       "    .dataframe tbody tr th:only-of-type {\n",
       "        vertical-align: middle;\n",
       "    }\n",
       "\n",
       "    .dataframe tbody tr th {\n",
       "        vertical-align: top;\n",
       "    }\n",
       "\n",
       "    .dataframe thead th {\n",
       "        text-align: right;\n",
       "    }\n",
       "</style>\n",
       "<table border=\"1\" class=\"dataframe\">\n",
       "  <thead>\n",
       "    <tr style=\"text-align: right;\">\n",
       "      <th></th>\n",
       "      <th>timestamp</th>\n",
       "      <th>data</th>\n",
       "    </tr>\n",
       "  </thead>\n",
       "  <tbody>\n",
       "    <tr>\n",
       "      <th>0</th>\n",
       "      <td>2022-01-01</td>\n",
       "      <td>11.764052</td>\n",
       "    </tr>\n",
       "    <tr>\n",
       "      <th>1</th>\n",
       "      <td>2022-01-02</td>\n",
       "      <td>10.900157</td>\n",
       "    </tr>\n",
       "    <tr>\n",
       "      <th>2</th>\n",
       "      <td>2022-01-03</td>\n",
       "      <td>11.978738</td>\n",
       "    </tr>\n",
       "    <tr>\n",
       "      <th>3</th>\n",
       "      <td>2022-01-04</td>\n",
       "      <td>13.740893</td>\n",
       "    </tr>\n",
       "    <tr>\n",
       "      <th>4</th>\n",
       "      <td>2022-01-05</td>\n",
       "      <td>13.867558</td>\n",
       "    </tr>\n",
       "  </tbody>\n",
       "</table>\n",
       "</div>"
      ],
      "text/plain": [
       "   timestamp       data\n",
       "0 2022-01-01  11.764052\n",
       "1 2022-01-02  10.900157\n",
       "2 2022-01-03  11.978738\n",
       "3 2022-01-04  13.740893\n",
       "4 2022-01-05  13.867558"
      ]
     },
     "execution_count": 12,
     "metadata": {},
     "output_type": "execute_result"
    }
   ],
   "source": [
    "import numpy as np\n",
    "import pandas as pd\n",
    "import matplotlib.pyplot as plt\n",
    "from statsmodels.tsa.ar_model import AutoReg\n",
    "from statsmodels.tsa.arima.model import ARIMA\n",
    "from statsmodels.tsa.statespace.sarimax import SARIMAX\n",
    "from statsmodels.tsa.vector_ar.var_model import VAR\n",
    "\n",
    "# Simulated time series data\n",
    "np.random.seed(0)\n",
    "n = 100\n",
    "t = np.arange(n)\n",
    "data = 10 + 0.5 * t + np.random.normal(0, 1, n)\n",
    "\n",
    "# Create a DataFrame\n",
    "df = pd.DataFrame({'timestamp': pd.date_range(start='2022-01-01', periods=n, freq='D'),\n",
    "                   'data': data})\n",
    "\n",
    "df.head()"
   ]
  },
  {
   "cell_type": "code",
   "execution_count": 7,
   "id": "1ef9f006-ad61-4bc6-ab51-e5338650c1b6",
   "metadata": {},
   "outputs": [
    {
     "data": {
      "text/plain": [
       "[60.33380475615027,\n",
       " 60.76469288257293,\n",
       " 61.19465573389403,\n",
       " 61.62369529701913,\n",
       " 62.05181355458718,\n",
       " 62.479012484979656,\n",
       " 62.90529406232974,\n",
       " 63.33066025653142,\n",
       " 63.75511303324859,\n",
       " 64.17865435392417,\n",
       " 64.6012861757891]"
      ]
     },
     "execution_count": 7,
     "metadata": {},
     "output_type": "execute_result"
    }
   ],
   "source": [
    "# 1. AutoRegressive (AR) Model\n",
    "model_ar = AutoReg(df['data'], lags=1)\n",
    "result_ar = model_ar.fit()\n",
    "forecast_ar = result_ar.predict(start=n, end=n+10, dynamic=True)\n",
    "list(forecast_ar)"
   ]
  },
  {
   "cell_type": "code",
   "execution_count": 13,
   "id": "2eb3c972-2689-4ca2-9ad8-fc4bd0bb88b4",
   "metadata": {},
   "outputs": [
    {
     "data": {
      "text/plain": [
       "[50.40286893415093,\n",
       " 34.87665335568623,\n",
       " 34.87665335568623,\n",
       " 34.87665335568623,\n",
       " 34.87665335568623,\n",
       " 34.87665335568623,\n",
       " 34.87665335568623,\n",
       " 34.87665335568623,\n",
       " 34.87665335568623,\n",
       " 34.87665335568623,\n",
       " 34.87665335568623]"
      ]
     },
     "execution_count": 13,
     "metadata": {},
     "output_type": "execute_result"
    }
   ],
   "source": [
    "# 2. Moving Average (MA) Model\n",
    "model_ma = ARIMA(df['data'], order=(0, 0, 1))\n",
    "result_ma = model_ma.fit()\n",
    "forecast_ma = result_ma.predict(start=n, end=n+10)\n",
    "list(forecast_ma)"
   ]
  },
  {
   "cell_type": "code",
   "execution_count": 15,
   "id": "731d011c-a763-43ce-8828-0fe9bc16a307",
   "metadata": {},
   "outputs": [
    {
     "data": {
      "text/plain": [
       "[59.58675949657715,\n",
       " 59.72687904669986,\n",
       " 59.66459596254388,\n",
       " 59.69228076861543,\n",
       " 59.67997488335612,\n",
       " 59.685444844446835,\n",
       " 59.68301344892319,\n",
       " 59.68409420326392,\n",
       " 59.683613808390426,\n",
       " 59.68382734372013,\n",
       " 59.683732427351224]"
      ]
     },
     "execution_count": 15,
     "metadata": {},
     "output_type": "execute_result"
    }
   ],
   "source": [
    "# 3. AutoRegressive Integrated Moving Average (ARIMA) Model\n",
    "model_arima = ARIMA(df['data'], order=(1, 1, 1))\n",
    "result_arima = model_arima.fit()\n",
    "forecast_arima = result_arima.forecast(steps=11)\n",
    "list(forecast_arima)"
   ]
  },
  {
   "cell_type": "code",
   "execution_count": 16,
   "id": "78c772d2-083c-4abb-b835-e2ed68eab6b2",
   "metadata": {},
   "outputs": [
    {
     "data": {
      "text/plain": [
       "[61.06013671388045,\n",
       " 60.64917261528752,\n",
       " 61.47113108776044,\n",
       " 61.89577291278253,\n",
       " 62.29046553556588,\n",
       " 63.23851931130722,\n",
       " 63.93468639695325,\n",
       " 64.56149746062951,\n",
       " 64.2214147069239,\n",
       " 65.03021017370345,\n",
       " 65.47698406140634]"
      ]
     },
     "execution_count": 16,
     "metadata": {},
     "output_type": "execute_result"
    }
   ],
   "source": [
    "# 4. Seasonal ARIMA (SARIMA) Model\n",
    "model_sarima = SARIMAX(df['data'], order=(1, 1, 1), seasonal_order=(1, 1, 1, 7))\n",
    "result_sarima = model_sarima.fit(disp=False)\n",
    "forecast_sarima = result_sarima.forecast(steps=11)\n",
    "list(forecast_sarima)"
   ]
  },
  {
   "cell_type": "code",
   "execution_count": 17,
   "id": "d96c4bda-1430-4135-a7bf-3e9fbee54495",
   "metadata": {},
   "outputs": [
    {
     "name": "stderr",
     "output_type": "stream",
     "text": [
      "/opt/conda/lib/python3.10/site-packages/statsmodels/tsa/base/tsa_model.py:471: ValueWarning: An unsupported index was provided and will be ignored when e.g. forecasting.\n",
      "  self._init_dates(dates, freq)\n"
     ]
    },
    {
     "data": {
      "text/plain": [
       "[array([60.24412841, 59.90198936]),\n",
       " array([60.81610662, 60.24412841]),\n",
       " array([61.2659788 , 60.81610662]),\n",
       " array([61.78063337, 61.2659788 ]),\n",
       " array([62.26082964, 61.78063337]),\n",
       " array([62.759266  , 62.26082964]),\n",
       " array([63.24795877, 62.759266  ]),\n",
       " array([63.74176773, 63.24795877]),\n",
       " array([64.23280211, 63.74176773]),\n",
       " array([64.72525204, 64.23280211]),\n",
       " array([65.21689249, 64.72525204])]"
      ]
     },
     "execution_count": 17,
     "metadata": {},
     "output_type": "execute_result"
    }
   ],
   "source": [
    "\n",
    "# 5. Vector AutoRegressive (VAR) Model\n",
    "data_var = np.column_stack([df['data'], df['data'].shift(1)])\n",
    "df_var = pd.DataFrame(data_var, columns=['data', 'data_lag1']).dropna()\n",
    "model_var = VAR(df_var)\n",
    "result_var = model_var.fit(maxlags=1)\n",
    "forecast_var = result_var.forecast(df_var.values[-1:], steps=11)\n",
    "list(forecast_var)"
   ]
  },
  {
   "cell_type": "code",
   "execution_count": 20,
   "id": "176e52a3-6cf5-454b-9d96-29f6ee417087",
   "metadata": {},
   "outputs": [
    {
     "ename": "NameError",
     "evalue": "name 'forecast_steps' is not defined",
     "output_type": "error",
     "traceback": [
      "\u001b[0;31m---------------------------------------------------------------------------\u001b[0m",
      "\u001b[0;31mNameError\u001b[0m                                 Traceback (most recent call last)",
      "Cell \u001b[0;32mIn [20], line 8\u001b[0m\n\u001b[1;32m      6\u001b[0m plt\u001b[38;5;241m.\u001b[39mplot(forecast_arima\u001b[38;5;241m.\u001b[39mindex, forecast_arima, label\u001b[38;5;241m=\u001b[39m\u001b[38;5;124m'\u001b[39m\u001b[38;5;124mARIMA Forecast\u001b[39m\u001b[38;5;124m'\u001b[39m, color\u001b[38;5;241m=\u001b[39m\u001b[38;5;124m'\u001b[39m\u001b[38;5;124mred\u001b[39m\u001b[38;5;124m'\u001b[39m)\n\u001b[1;32m      7\u001b[0m plt\u001b[38;5;241m.\u001b[39mplot(forecast_sarima\u001b[38;5;241m.\u001b[39mindex, forecast_sarima, label\u001b[38;5;241m=\u001b[39m\u001b[38;5;124m'\u001b[39m\u001b[38;5;124mSARIMA Forecast\u001b[39m\u001b[38;5;124m'\u001b[39m, color\u001b[38;5;241m=\u001b[39m\u001b[38;5;124m'\u001b[39m\u001b[38;5;124mpurple\u001b[39m\u001b[38;5;124m'\u001b[39m)\n\u001b[0;32m----> 8\u001b[0m plt\u001b[38;5;241m.\u001b[39mplot(pd\u001b[38;5;241m.\u001b[39mdate_range(start\u001b[38;5;241m=\u001b[39mdf[\u001b[38;5;124m'\u001b[39m\u001b[38;5;124mtimestamp\u001b[39m\u001b[38;5;124m'\u001b[39m]\u001b[38;5;241m.\u001b[39miloc[\u001b[38;5;241m-\u001b[39m\u001b[38;5;241m1\u001b[39m], periods\u001b[38;5;241m=\u001b[39m\u001b[43mforecast_steps\u001b[49m\u001b[38;5;241m+\u001b[39m\u001b[38;5;241m1\u001b[39m, freq\u001b[38;5;241m=\u001b[39m\u001b[38;5;124m'\u001b[39m\u001b[38;5;124mD\u001b[39m\u001b[38;5;124m'\u001b[39m)[\u001b[38;5;241m1\u001b[39m:],\n\u001b[1;32m      9\u001b[0m          forecast_var[:, \u001b[38;5;241m0\u001b[39m], label\u001b[38;5;241m=\u001b[39m\u001b[38;5;124m'\u001b[39m\u001b[38;5;124mVAR Forecast Data 1\u001b[39m\u001b[38;5;124m'\u001b[39m, color\u001b[38;5;241m=\u001b[39m\u001b[38;5;124m'\u001b[39m\u001b[38;5;124mbrown\u001b[39m\u001b[38;5;124m'\u001b[39m)\n\u001b[1;32m     10\u001b[0m plt\u001b[38;5;241m.\u001b[39mplot(pd\u001b[38;5;241m.\u001b[39mdate_range(start\u001b[38;5;241m=\u001b[39mdf[\u001b[38;5;124m'\u001b[39m\u001b[38;5;124mtimestamp\u001b[39m\u001b[38;5;124m'\u001b[39m]\u001b[38;5;241m.\u001b[39miloc[\u001b[38;5;241m-\u001b[39m\u001b[38;5;241m1\u001b[39m], periods\u001b[38;5;241m=\u001b[39mforecast_steps\u001b[38;5;241m+\u001b[39m\u001b[38;5;241m1\u001b[39m, freq\u001b[38;5;241m=\u001b[39m\u001b[38;5;124m'\u001b[39m\u001b[38;5;124mD\u001b[39m\u001b[38;5;124m'\u001b[39m)[\u001b[38;5;241m1\u001b[39m:],\n\u001b[1;32m     11\u001b[0m          forecast_var[:, \u001b[38;5;241m1\u001b[39m], label\u001b[38;5;241m=\u001b[39m\u001b[38;5;124m'\u001b[39m\u001b[38;5;124mVAR Forecast Data 2\u001b[39m\u001b[38;5;124m'\u001b[39m, color\u001b[38;5;241m=\u001b[39m\u001b[38;5;124m'\u001b[39m\u001b[38;5;124mgreen\u001b[39m\u001b[38;5;124m'\u001b[39m)\n\u001b[1;32m     12\u001b[0m plt\u001b[38;5;241m.\u001b[39mxlabel(\u001b[38;5;124m'\u001b[39m\u001b[38;5;124mTimestamp\u001b[39m\u001b[38;5;124m'\u001b[39m)\n",
      "\u001b[0;31mNameError\u001b[0m: name 'forecast_steps' is not defined"
     ]
    },
    {
     "data": {
      "image/png": "[encoded data removed]",
      "text/plain": [
       "<Figure size 1200x600 with 1 Axes>"
      ]
     },
     "metadata": {},
     "output_type": "display_data"
    }
   ],
   "source": [
    "# Plotting the forecasts\n",
    "plt.figure(figsize=(12, 6))\n",
    "plt.plot(df['timestamp'], df['data'], label='Original Data', color='blue')\n",
    "plt.plot(forecast_ar.index, forecast_ar, label='AR Forecast', color='orange')\n",
    "plt.plot(forecast_ma.index, forecast_ma, label='MA Forecast', color='green')\n",
    "plt.plot(forecast_arima.index, forecast_arima, label='ARIMA Forecast', color='red')\n",
    "plt.plot(forecast_sarima.index, forecast_sarima, label='SARIMA Forecast', color='purple')\n",
    "plt.plot(pd.date_range(start=df['timestamp'].iloc[-1], periods=forecast_steps+1, freq='D')[1:],\n",
    "         forecast_var[:, 0], label='VAR Forecast Data 1', color='brown')\n",
    "plt.plot(pd.date_range(start=df['timestamp'].iloc[-1], periods=forecast_steps+1, freq='D')[1:],\n",
    "         forecast_var[:, 1], label='VAR Forecast Data 2', color='green')\n",
    "plt.xlabel('Timestamp')\n",
    "plt.ylabel('Data')\n",
    "plt.title('Time Series Forecasting')\n",
    "plt.legend()\n",
    "plt.grid(True)\n",
    "plt.show()\n",
    "\n"
   ]
  }
 ],
 "metadata": {
  "kernelspec": {
   "display_name": "Python 3 (ipykernel)",
   "language": "python",
   "name": "python3"
  },
  "language_info": {
   "codemirror_mode": {
    "name": "ipython",
    "version": 3
   },
   "file_extension": ".py",
   "mimetype": "text/x-python",
   "name": "python",
   "nbconvert_exporter": "python",
   "pygments_lexer": "ipython3",
   "version": "3.10.6"
  }
 },
 "nbformat": 4,
 "nbformat_minor": 5
}
